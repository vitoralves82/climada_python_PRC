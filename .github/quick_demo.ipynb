{
 "cells": [
  {
   "cell_type": "code",
   "execution_count": null,
   "id": "2dbee4e6",
   "metadata": {
    "vscode": {
     "languageId": "plaintext"
    }
   },
   "outputs": [],
   "source": [
    "from climada.hazard import TropCyclone\n",
    "from climada.entity import Exposures\n",
    "from climada.engine import Impact, ImpactFuncSet\n",
    "\n"
   ]
  },
  {
   "cell_type": "code",
   "execution_count": null,
   "id": "f181dc25",
   "metadata": {
    "vscode": {
     "languageId": "plaintext"
    }
   },
   "outputs": [],
   "source": [
    "# 1. HAZARD ─ ciclone tropical de exemplo\n",
    "tc = TropCyclone()\n",
    "tc.set_from_ibtracs(radius=1, basin='NA')   # pequeno recorte só p/ teste\n",
    "\n"
   ]
  },
  {
   "cell_type": "code",
   "execution_count": null,
   "id": "b68a117a",
   "metadata": {
    "vscode": {
     "languageId": "plaintext"
    }
   },
   "outputs": [],
   "source": [
    "# 2. EXPOSURE ─ ativos “fictícios” espalhados na área do ciclone\n",
    "exp = Exposures()\n",
    "exp.set_lat_lon()\n",
    "exp.value = 1e6   # cada ponto vale 1 milhão\n",
    "\n"
   ]
  },
  {
   "cell_type": "code",
   "execution_count": null,
   "id": "0f533002",
   "metadata": {
    "vscode": {
     "languageId": "plaintext"
    }
   },
   "outputs": [],
   "source": [
    "# 3. IMPACT FUNCTIONS ─ curva de dano calibrada p/ ciclone\n",
    "impf = ImpactFuncSet.from_calibrated_set(\"TC\")\n",
    "\n"
   ]
  },
  {
   "cell_type": "code",
   "execution_count": null,
   "id": "af2fe439",
   "metadata": {
    "vscode": {
     "languageId": "plaintext"
    }
   },
   "outputs": [],
   "source": [
    "# 4. IMPACT ─ cálculo\n",
    "imp = Impact()\n",
    "imp.calc(exp, impf, tc)\n",
    "\n"
   ]
  },
  {
   "cell_type": "code",
   "execution_count": null,
   "id": "e52b42d8",
   "metadata": {
    "vscode": {
     "languageId": "plaintext"
    }
   },
   "outputs": [],
   "source": [
    "# 5. EXPORTA p/ o front\n",
    "imp.write_geojson('impact.geojson')\n",
    "print(\"Arquivo impact.geojson gerado com sucesso!\")\n"
   ]
  }
 ],
 "metadata": {
  "language_info": {
   "name": "python"
  }
 },
 "nbformat": 4,
 "nbformat_minor": 5
}
